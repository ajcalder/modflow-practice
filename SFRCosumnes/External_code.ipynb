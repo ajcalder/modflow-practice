{
 "cells": [
  {
   "cell_type": "markdown",
   "metadata": {},
   "source": [
    "## External code for model set up\n",
    "This notebook will hold code used in the initial set up of the model but is not needed for every run (ie transforming the large scale 10 meter dem from epsg 4326 to epsg 32610 only needs to be done once)"
   ]
  },
  {
   "cell_type": "code",
   "execution_count": null,
   "metadata": {},
   "outputs": [],
   "source": [
    "spath = \"C://Users/ajcalder/Box/Research_Calderwood/dem\"\n",
    "\n",
    "# 1 meter dem\n",
    "raster_name = spath+\"/model_dem.tif\"\n",
    "\n",
    "rio = Raster.load(raster_name)"
   ]
  },
  {
   "cell_type": "code",
   "execution_count": null,
   "metadata": {},
   "outputs": [],
   "source": [
    "fig = plt.figure(figsize=(12, 12))\n",
    "ax = fig.add_subplot(1, 1, 1, aspect='equal')\n",
    "\n",
    "ax = rio.plot(ax=ax)\n",
    "plt.colorbar(ax.images[0], shrink=0.7);"
   ]
  },
  {
   "cell_type": "code",
   "execution_count": null,
   "metadata": {},
   "outputs": [],
   "source": [
    "# 10 meter dem\n",
    "raster_name = spath+\"/USGS_ten_meter_dem/USGS_13_n39w122_10meterdem.tif\"\n",
    "\n",
    "rio10 = Raster.load(raster_name)"
   ]
  },
  {
   "cell_type": "code",
   "execution_count": null,
   "metadata": {},
   "outputs": [],
   "source": [
    "# Convert 10 meter dem crs from lat long to utm zone 10n\n",
    "import rasterio\n",
    "from rasterio.warp import calculate_default_transform, reproject, Resampling\n",
    "\n",
    "dst_crs = 'EPSG:32610'\n",
    "\n",
    "raster_name = spath+\"/USGS_ten_meter_dem/USGS_13_n39w122_10meterdem.tif\"\n",
    "with rasterio.open(raster_name) as src:\n",
    "    transform, width, height = calculate_default_transform(\n",
    "        src.crs, dst_crs, src.width, src.height, *src.bounds)\n",
    "    kwargs = src.meta.copy()\n",
    "    kwargs.update({\n",
    "        'crs': dst_crs,\n",
    "        'transform': transform,\n",
    "        'width': width,\n",
    "        'height': height\n",
    "    })\n",
    "\n",
    "    with rasterio.open(spath+'/USGS_ten_meter_dem/transformed.tif', 'w', **kwargs) as dst:\n",
    "        for i in range(1, src.count + 1):\n",
    "            reproject(\n",
    "                source=rasterio.band(src, i),\n",
    "                destination=rasterio.band(dst, i),\n",
    "                src_transform=src.transform,\n",
    "                src_crs=src.crs,\n",
    "                dst_transform=transform,\n",
    "                dst_crs=dst_crs,\n",
    "                resampling=Resampling.nearest)"
   ]
  },
  {
   "cell_type": "markdown",
   "metadata": {},
   "source": [
    "# Model vertices, shapefile"
   ]
  },
  {
   "cell_type": "code",
   "execution_count": null,
   "metadata": {},
   "outputs": [],
   "source": [
    "# Get vertexes of model domain\n",
    "ll = mg.get_coords(0, 0) #lower left\n",
    "lr = mg.get_coords(nrow*delr, 0) #lower right\n",
    "ur = mg.get_coords(nrow*delr, ncol*delc) #upper right\n",
    "ul = mg.get_coords(0, ncol*delc) #upper left\n",
    "print(ll, lr, ur, ul)\n",
    "\n",
    "# Shapefile of model bounds\n",
    "vertices = np.stack(np.asarray((ll,lr, ur, ul)))\n",
    "vertices"
   ]
  },
  {
   "cell_type": "code",
   "execution_count": null,
   "metadata": {},
   "outputs": [],
   "source": [
    "geoms = Polygon(vertices)\n",
    "geoms.plot() # this feature requires descartes\n",
    "geoms.type"
   ]
  },
  {
   "cell_type": "markdown",
   "metadata": {},
   "source": [
    "# Saving a polygon to a shapefile"
   ]
  },
  {
   "cell_type": "code",
   "execution_count": null,
   "metadata": {},
   "outputs": [],
   "source": [
    "# How to save a polygon to shapefile\n",
    "import shapely\n",
    "w = shapefile.Writer('polygon')\n",
    "w.field('name', 'C')\n",
    "w.poly([vertices])\n",
    "w.record('polygon1')\n",
    "w.close()"
   ]
  },
  {
   "cell_type": "markdown",
   "metadata": {},
   "source": [
    "# Raster cropping"
   ]
  },
  {
   "cell_type": "code",
   "execution_count": null,
   "metadata": {},
   "outputs": [],
   "source": [
    "t0 = time.time()\n",
    "rio10_utm.crop(vertices, invert=False)\n",
    "crop_time = time.time() - t0"
   ]
  },
  {
   "cell_type": "code",
   "execution_count": null,
   "metadata": {},
   "outputs": [],
   "source": [
    "rio10_utm.plot()"
   ]
  },
  {
   "cell_type": "code",
   "execution_count": null,
   "metadata": {},
   "outputs": [],
   "source": [
    "rio10_utm.write()"
   ]
  }
 ],
 "metadata": {
  "kernelspec": {
   "display_name": "Python 3",
   "language": "python",
   "name": "python3"
  },
  "language_info": {
   "codemirror_mode": {
    "name": "ipython",
    "version": 3
   },
   "file_extension": ".py",
   "mimetype": "text/x-python",
   "name": "python",
   "nbconvert_exporter": "python",
   "pygments_lexer": "ipython3",
   "version": "3.6.10"
  }
 },
 "nbformat": 4,
 "nbformat_minor": 4
}
